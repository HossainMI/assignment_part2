{
 "cells": [
  {
   "cell_type": "code",
   "execution_count": 1,
   "id": "f1f2af52",
   "metadata": {},
   "outputs": [],
   "source": [
    "# For set/Change working directory we need to import os\n",
    "\n",
    "import os"
   ]
  },
  {
   "cell_type": "code",
   "execution_count": 8,
   "id": "0b383849",
   "metadata": {},
   "outputs": [],
   "source": [
    "# Set new working directory\n",
    "\n",
    "os.chdir('E:\\\\Renata Limited\\\\Data Scientist\\\\Assignment')"
   ]
  },
  {
   "cell_type": "code",
   "execution_count": 9,
   "id": "9850981e",
   "metadata": {},
   "outputs": [],
   "source": [
    "# Import neccessary packages (after installed)\n",
    "\n",
    "import pandas as pd\n",
    "import openpyxl"
   ]
  },
  {
   "cell_type": "code",
   "execution_count": 10,
   "id": "dd06ef97",
   "metadata": {},
   "outputs": [],
   "source": [
    "# Read the Excel file and load Sheet1 into a DataFrame\n",
    "\n",
    "df = pd.read_excel('Assignment Part 2.xlsx',\n",
    "                   sheet_name='Sheet1')"
   ]
  },
  {
   "cell_type": "code",
   "execution_count": 11,
   "id": "a484ee4e",
   "metadata": {},
   "outputs": [
    {
     "name": "stdout",
     "output_type": "stream",
     "text": [
      "        ID Customer Name    Division Gender MaritalStatus  Age  Income\n",
      "0  BU79786     Christine       Dhaka      F       Married   49   56274\n",
      "1  QZ44356         Susan    Rajshahi      F        Single   34       0\n",
      "2  AI49188      Margaret      Khulna      F       Married   29   48767\n",
      "3  WW63253         David    Barishal      M       Married   46       0\n",
      "4  HB64268         Peter  Mymensingh      M        Single   26   43836\n",
      "5  OC83172        Judith      Sylhet      F       Married   27   62902\n",
      "6  XZ87318      Jennifer      Khulna      F       Married   31   55350\n",
      "7  CF85061       Michael    Barishal      M        Single   38       0\n",
      "8  DY87989          John  Mymensingh      M      Divorced   47   14072\n",
      "9  BQ94931          Mary      Sylhet      F       Married   31   28812\n"
     ]
    }
   ],
   "source": [
    "print (df.head(10))"
   ]
  },
  {
   "cell_type": "code",
   "execution_count": 12,
   "id": "07464b35",
   "metadata": {},
   "outputs": [],
   "source": [
    "# Create a new Excel file and write Sheet1 data into a new sheet\n",
    "\n",
    "with pd.ExcelWriter('New file (Sheet 1).xlsx') as writer:\n",
    "    df.to_excel(writer,\n",
    "                sheet_name='Sheet1_new',\n",
    "                index=False)"
   ]
  },
  {
   "cell_type": "code",
   "execution_count": 13,
   "id": "20405c70",
   "metadata": {},
   "outputs": [],
   "source": [
    "# Convert the new Excel file to CSV\n",
    "\n",
    "df.to_csv('New CSV file (Sheet 1).csv',\n",
    "          index=False)"
   ]
  },
  {
   "cell_type": "code",
   "execution_count": null,
   "id": "e77bea9e",
   "metadata": {},
   "outputs": [],
   "source": []
  }
 ],
 "metadata": {
  "kernelspec": {
   "display_name": "Python 3 (ipykernel)",
   "language": "python",
   "name": "python3"
  },
  "language_info": {
   "codemirror_mode": {
    "name": "ipython",
    "version": 3
   },
   "file_extension": ".py",
   "mimetype": "text/x-python",
   "name": "python",
   "nbconvert_exporter": "python",
   "pygments_lexer": "ipython3",
   "version": "3.11.4"
  }
 },
 "nbformat": 4,
 "nbformat_minor": 5
}
