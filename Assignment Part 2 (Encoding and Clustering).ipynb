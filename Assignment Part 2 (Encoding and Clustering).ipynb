{
 "cells": [
  {
   "cell_type": "code",
   "execution_count": 1,
   "id": "78f91c52",
   "metadata": {},
   "outputs": [],
   "source": [
    "# Package for setting new working directory\n",
    "\n",
    "import os"
   ]
  },
  {
   "cell_type": "code",
   "execution_count": 2,
   "id": "a3d6a1b8",
   "metadata": {},
   "outputs": [],
   "source": [
    "# Set new working directory\n",
    "\n",
    "os.chdir('E:\\\\Renata Limited\\\\Data Scientist\\\\Assignment')"
   ]
  },
  {
   "cell_type": "code",
   "execution_count": 3,
   "id": "f8cb863b",
   "metadata": {},
   "outputs": [],
   "source": [
    "# import neccessary packages\n",
    "\n",
    "import pandas as pd"
   ]
  },
  {
   "cell_type": "code",
   "execution_count": 4,
   "id": "974fbc2a",
   "metadata": {},
   "outputs": [],
   "source": [
    "# Read the CSV file into a DataFrame\n",
    "\n",
    "df = pd.read_csv('New CSV file (Sheet 1).csv')"
   ]
  },
  {
   "cell_type": "code",
   "execution_count": 5,
   "id": "5cb4268b",
   "metadata": {},
   "outputs": [
    {
     "name": "stdout",
     "output_type": "stream",
     "text": [
      "        ID Customer Name    Division Gender MaritalStatus  Age  Income\n",
      "0  BU79786     Christine       Dhaka      F       Married   49   56274\n",
      "1  QZ44356         Susan    Rajshahi      F        Single   34       0\n",
      "2  AI49188      Margaret      Khulna      F       Married   29   48767\n",
      "3  WW63253         David    Barishal      M       Married   46       0\n",
      "4  HB64268         Peter  Mymensingh      M        Single   26   43836\n",
      "5  OC83172        Judith      Sylhet      F       Married   27   62902\n"
     ]
    }
   ],
   "source": [
    "print (df.head(6))"
   ]
  },
  {
   "cell_type": "code",
   "execution_count": 6,
   "id": "159e6814",
   "metadata": {},
   "outputs": [],
   "source": [
    "# Remove the 'ID' column from the DataFrame\n",
    "\n",
    "df = df.drop('ID', axis=1)"
   ]
  },
  {
   "cell_type": "code",
   "execution_count": 7,
   "id": "643ae8bb",
   "metadata": {},
   "outputs": [
    {
     "name": "stdout",
     "output_type": "stream",
     "text": [
      "  Customer Name    Division Gender MaritalStatus  Age  Income\n",
      "0     Christine       Dhaka      F       Married   49   56274\n",
      "1         Susan    Rajshahi      F        Single   34       0\n",
      "2      Margaret      Khulna      F       Married   29   48767\n",
      "3         David    Barishal      M       Married   46       0\n",
      "4         Peter  Mymensingh      M        Single   26   43836\n",
      "5        Judith      Sylhet      F       Married   27   62902\n"
     ]
    }
   ],
   "source": [
    "print (df.head(6))"
   ]
  },
  {
   "cell_type": "code",
   "execution_count": 8,
   "id": "51d50408",
   "metadata": {},
   "outputs": [],
   "source": [
    "# Encoding categorical columns (Division, Gender, and MaritalStatus) with numerical values\n",
    "\n",
    "df['Gender'] = df['Gender'].map({'M': 1, 'F': 2})\n",
    "df['MaritalStatus'] = df['MaritalStatus'].map({'Single': 1, 'Married': 2, 'Divorced': 3})\n",
    "df['Division'] = df['Division'].map({'Barishal':1,\n",
    "                                    'Chattogram':2,\n",
    "                                    'Dhaka':3,\n",
    "                                    'Khulna':4,\n",
    "                                    'Mymensingh':5,\n",
    "                                    'Rajshahi':6,\n",
    "                                    'Rangpur':7,\n",
    "                                    'Sylhet':8})"
   ]
  },
  {
   "cell_type": "code",
   "execution_count": 9,
   "id": "46f72713",
   "metadata": {},
   "outputs": [
    {
     "name": "stdout",
     "output_type": "stream",
     "text": [
      "  Customer Name  Division  Gender  MaritalStatus  Age  Income\n",
      "0     Christine         3       2              2   49   56274\n",
      "1         Susan         6       2              1   34       0\n",
      "2      Margaret         4       2              2   29   48767\n",
      "3         David         1       1              2   46       0\n",
      "4         Peter         5       1              1   26   43836\n",
      "5        Judith         8       2              2   27   62902\n"
     ]
    }
   ],
   "source": [
    "print (df.head(6))"
   ]
  },
  {
   "cell_type": "code",
   "execution_count": 10,
   "id": "60c16705",
   "metadata": {},
   "outputs": [],
   "source": [
    "# import packages for clustering\n",
    "\n",
    "from sklearn.cluster import KMeans  # First we need \"pip install scikit-learn\""
   ]
  },
  {
   "cell_type": "code",
   "execution_count": 11,
   "id": "7d6838f5",
   "metadata": {},
   "outputs": [],
   "source": [
    "# Extract the 'Division' column as input for clustering\n",
    "\n",
    "DIV = df[['Division']]"
   ]
  },
  {
   "cell_type": "code",
   "execution_count": 14,
   "id": "6c77f6f7",
   "metadata": {},
   "outputs": [
    {
     "data": {
      "text/html": [
       "<style>#sk-container-id-1 {color: black;background-color: white;}#sk-container-id-1 pre{padding: 0;}#sk-container-id-1 div.sk-toggleable {background-color: white;}#sk-container-id-1 label.sk-toggleable__label {cursor: pointer;display: block;width: 100%;margin-bottom: 0;padding: 0.3em;box-sizing: border-box;text-align: center;}#sk-container-id-1 label.sk-toggleable__label-arrow:before {content: \"▸\";float: left;margin-right: 0.25em;color: #696969;}#sk-container-id-1 label.sk-toggleable__label-arrow:hover:before {color: black;}#sk-container-id-1 div.sk-estimator:hover label.sk-toggleable__label-arrow:before {color: black;}#sk-container-id-1 div.sk-toggleable__content {max-height: 0;max-width: 0;overflow: hidden;text-align: left;background-color: #f0f8ff;}#sk-container-id-1 div.sk-toggleable__content pre {margin: 0.2em;color: black;border-radius: 0.25em;background-color: #f0f8ff;}#sk-container-id-1 input.sk-toggleable__control:checked~div.sk-toggleable__content {max-height: 200px;max-width: 100%;overflow: auto;}#sk-container-id-1 input.sk-toggleable__control:checked~label.sk-toggleable__label-arrow:before {content: \"▾\";}#sk-container-id-1 div.sk-estimator input.sk-toggleable__control:checked~label.sk-toggleable__label {background-color: #d4ebff;}#sk-container-id-1 div.sk-label input.sk-toggleable__control:checked~label.sk-toggleable__label {background-color: #d4ebff;}#sk-container-id-1 input.sk-hidden--visually {border: 0;clip: rect(1px 1px 1px 1px);clip: rect(1px, 1px, 1px, 1px);height: 1px;margin: -1px;overflow: hidden;padding: 0;position: absolute;width: 1px;}#sk-container-id-1 div.sk-estimator {font-family: monospace;background-color: #f0f8ff;border: 1px dotted black;border-radius: 0.25em;box-sizing: border-box;margin-bottom: 0.5em;}#sk-container-id-1 div.sk-estimator:hover {background-color: #d4ebff;}#sk-container-id-1 div.sk-parallel-item::after {content: \"\";width: 100%;border-bottom: 1px solid gray;flex-grow: 1;}#sk-container-id-1 div.sk-label:hover label.sk-toggleable__label {background-color: #d4ebff;}#sk-container-id-1 div.sk-serial::before {content: \"\";position: absolute;border-left: 1px solid gray;box-sizing: border-box;top: 0;bottom: 0;left: 50%;z-index: 0;}#sk-container-id-1 div.sk-serial {display: flex;flex-direction: column;align-items: center;background-color: white;padding-right: 0.2em;padding-left: 0.2em;position: relative;}#sk-container-id-1 div.sk-item {position: relative;z-index: 1;}#sk-container-id-1 div.sk-parallel {display: flex;align-items: stretch;justify-content: center;background-color: white;position: relative;}#sk-container-id-1 div.sk-item::before, #sk-container-id-1 div.sk-parallel-item::before {content: \"\";position: absolute;border-left: 1px solid gray;box-sizing: border-box;top: 0;bottom: 0;left: 50%;z-index: -1;}#sk-container-id-1 div.sk-parallel-item {display: flex;flex-direction: column;z-index: 1;position: relative;background-color: white;}#sk-container-id-1 div.sk-parallel-item:first-child::after {align-self: flex-end;width: 50%;}#sk-container-id-1 div.sk-parallel-item:last-child::after {align-self: flex-start;width: 50%;}#sk-container-id-1 div.sk-parallel-item:only-child::after {width: 0;}#sk-container-id-1 div.sk-dashed-wrapped {border: 1px dashed gray;margin: 0 0.4em 0.5em 0.4em;box-sizing: border-box;padding-bottom: 0.4em;background-color: white;}#sk-container-id-1 div.sk-label label {font-family: monospace;font-weight: bold;display: inline-block;line-height: 1.2em;}#sk-container-id-1 div.sk-label-container {text-align: center;}#sk-container-id-1 div.sk-container {/* jupyter's `normalize.less` sets `[hidden] { display: none; }` but bootstrap.min.css set `[hidden] { display: none !important; }` so we also need the `!important` here to be able to override the default hidden behavior on the sphinx rendered scikit-learn.org. See: https://github.com/scikit-learn/scikit-learn/issues/21755 */display: inline-block !important;position: relative;}#sk-container-id-1 div.sk-text-repr-fallback {display: none;}</style><div id=\"sk-container-id-1\" class=\"sk-top-container\"><div class=\"sk-text-repr-fallback\"><pre>KMeans(n_clusters=4, n_init=10)</pre><b>In a Jupyter environment, please rerun this cell to show the HTML representation or trust the notebook. <br />On GitHub, the HTML representation is unable to render, please try loading this page with nbviewer.org.</b></div><div class=\"sk-container\" hidden><div class=\"sk-item\"><div class=\"sk-estimator sk-toggleable\"><input class=\"sk-toggleable__control sk-hidden--visually\" id=\"sk-estimator-id-1\" type=\"checkbox\" checked><label for=\"sk-estimator-id-1\" class=\"sk-toggleable__label sk-toggleable__label-arrow\">KMeans</label><div class=\"sk-toggleable__content\"><pre>KMeans(n_clusters=4, n_init=10)</pre></div></div></div></div></div>"
      ],
      "text/plain": [
       "KMeans(n_clusters=4, n_init=10)"
      ]
     },
     "execution_count": 14,
     "metadata": {},
     "output_type": "execute_result"
    }
   ],
   "source": [
    "# Perform K-means clustering\n",
    "\n",
    "KMC = KMeans(n_clusters=4,\n",
    "                n_init=10)  # Explicitly set n_init=10\n",
    "\n",
    "KMC.fit(df[['Division']])"
   ]
  },
  {
   "cell_type": "code",
   "execution_count": 16,
   "id": "07e924df",
   "metadata": {},
   "outputs": [],
   "source": [
    "# Retrieve the cluster labels assigned to each data point\n",
    "\n",
    "labels = KMC.labels_"
   ]
  },
  {
   "cell_type": "code",
   "execution_count": 17,
   "id": "4ee7f55f",
   "metadata": {},
   "outputs": [
    {
     "name": "stdout",
     "output_type": "stream",
     "text": [
      "[0 2 0 3 2 1 0 3 2 1 1 3 0 2 0 3 2 1 1 3 0 2 2 1 1 3 0 2 0 1 3 0 2 0 3 2 1\n",
      " 1 3 0 1 3 0 2 2 1 1 3 0 1]\n"
     ]
    }
   ],
   "source": [
    "print (labels)"
   ]
  },
  {
   "cell_type": "code",
   "execution_count": 18,
   "id": "c3ffa9a4",
   "metadata": {},
   "outputs": [],
   "source": [
    "# Add the cluster labels to the DataFrame as named \"Cluster\"\n",
    "\n",
    "df['Cluster'] = labels"
   ]
  },
  {
   "cell_type": "code",
   "execution_count": 19,
   "id": "71a0d508",
   "metadata": {},
   "outputs": [
    {
     "name": "stdout",
     "output_type": "stream",
     "text": [
      "  Customer Name  Division  Gender  MaritalStatus  Age  Income  Cluster\n",
      "0     Christine         3       2              2   49   56274        0\n",
      "1         Susan         6       2              1   34       0        2\n",
      "2      Margaret         4       2              2   29   48767        0\n",
      "3         David         1       1              2   46       0        3\n",
      "4         Peter         5       1              1   26   43836        2\n",
      "5        Judith         8       2              2   27   62902        1\n"
     ]
    }
   ],
   "source": [
    "print (df.head(6))"
   ]
  },
  {
   "cell_type": "code",
   "execution_count": 20,
   "id": "534f670f",
   "metadata": {},
   "outputs": [],
   "source": [
    "# Export the updated DataFrame to a new CSV file\n",
    "\n",
    "df.to_csv('Cluster csv file.csv',\n",
    "          index=False)"
   ]
  },
  {
   "cell_type": "code",
   "execution_count": null,
   "id": "952cf07f",
   "metadata": {},
   "outputs": [],
   "source": []
  }
 ],
 "metadata": {
  "kernelspec": {
   "display_name": "Python 3 (ipykernel)",
   "language": "python",
   "name": "python3"
  },
  "language_info": {
   "codemirror_mode": {
    "name": "ipython",
    "version": 3
   },
   "file_extension": ".py",
   "mimetype": "text/x-python",
   "name": "python",
   "nbconvert_exporter": "python",
   "pygments_lexer": "ipython3",
   "version": "3.11.4"
  }
 },
 "nbformat": 4,
 "nbformat_minor": 5
}
